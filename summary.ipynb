{
 "cells": [
  {
   "cell_type": "code",
   "execution_count": 1,
   "metadata": {},
   "outputs": [],
   "source": [
    "import timeit\n",
    "import numpy as np\n",
    "import pandas as pd\n",
    "from scipy import stats"
   ]
  },
  {
   "cell_type": "code",
   "execution_count": 2,
   "metadata": {},
   "outputs": [],
   "source": [
    "class Summary():\n",
    "    '''\n",
    "        Class Summary aims to calculate the summary values of lists, in an exploratory data analysis.\n",
    "        \n",
    "        ## Parameter: list.\n",
    "        \n",
    "        The calculated values are:\n",
    "         \n",
    "            \n",
    "            Sorted asc': list_org_asc,\n",
    "            Sorted desc': list_org_desc,\n",
    "            # values': count,\n",
    "            Sum': sum_all,\n",
    "            Mean': mean,\n",
    "            Median': list_mediana,\n",
    "            Mode': mode,\n",
    "            Variance': variance,\n",
    "            Standard deviation': stdeviation,\n",
    "            Normal Distribution': normal,\n",
    "            Minimum': list_org_asc[0],\n",
    "            Minor Outlier': min_out,\n",
    "            Minor': minor,\n",
    "            Q1': q1,\n",
    "            Q2': q2,\n",
    "            Q3': q3,\n",
    "            Major': major,\n",
    "            Major Outlier': max_out,\n",
    "            Maximum': list_org_asc[-1],\n",
    "            Range': li\n",
    "        \n",
    "    '''\n",
    "    def __init__(self, list_to_summary):\n",
    "        try:\n",
    "            self.list_to_summary = list_to_summary\n",
    "        except Exception:\n",
    "            return 'Error: Only lists can be used as a parameter for Summary class.'\n",
    "    \n",
    "    \n",
    "    def sort_list(self):\n",
    "        '''\n",
    "            Method for organizing the list, from the lowest value to the highest value, and to obtain the mode.\n",
    "            \n",
    "        '''\n",
    "        list_org_asc = self.list_to_summary[:]\n",
    "        count = 1\n",
    "        count_mode = 0\n",
    "        mode = 0\n",
    "        bigger = 0  \n",
    "        for k1 in range(len(list_org_asc) - 1):\n",
    "            count += 1\n",
    "            for k2 in range(len(list_org_asc) - 1):\n",
    "                if list_org_asc[k2] > list_org_asc[k2 + 1]:\n",
    "                    list_org_asc[k2], list_org_asc[k2 + 1] = list_org_asc[k2 + 1], list_org_asc[k2]\n",
    "        \n",
    "        list_org_desc = self.list_to_summary[:]\n",
    "        for k1 in range(len(list_org_desc) - 1):\n",
    "            for k2 in range(len(list_org_desc) - 1):\n",
    "                if list_org_desc[k2] < list_org_desc[k2 + 1]:\n",
    "                    list_org_desc[k2 + 1], list_org_desc[k2] = list_org_desc[k2], list_org_desc[k2 + 1]\n",
    "        \n",
    "        for k1 in list_org_desc:\n",
    "            for k2 in list_org_desc:\n",
    "                if k1 == k2:\n",
    "                    count_mode += 1\n",
    "                if count_mode > bigger:\n",
    "                    bigger = count_mode\n",
    "                    mode = k1\n",
    "            count_mode = 0\n",
    "        mode_end = [mode, bigger]\n",
    "                    \n",
    "        dict_result = {\n",
    "            '# values': count,\n",
    "            'Sorted asc': list_org_asc,\n",
    "            'Sorted desc': list_org_desc,\n",
    "            'Mode': mode_end\n",
    "        }\n",
    "        return dict_result\n",
    "    \n",
    "    \n",
    "    def median_list(self):\n",
    "        '''\n",
    "            Calculation of median from list_to_summary.\n",
    "            \n",
    "            Return a dictonary with:\n",
    "                Median\n",
    "            \n",
    "        '''\n",
    "        list_org = Summary(self.list_to_summary).sort_list()['Sorted asc']\n",
    "        count = Summary(self.list_to_summary).sort_list()['# values']\n",
    "        if count%2 == 1:\n",
    "            list_mediana = list_org[int(count/2)]\n",
    "        else:\n",
    "            list_mediana = (list_org[int(count/2)] + list_org[int(count/2) - 1])/2\n",
    "        dict_result = {\n",
    "            'Median': list_mediana,\n",
    "        }\n",
    "        return dict_result\n",
    "    \n",
    "    \n",
    "    def mean_sum_list(self):\n",
    "        '''\n",
    "            Calculation of mean and sum of values of list_to_summary.\n",
    "            \n",
    "            Return a dictonary with:\n",
    "                Mean\n",
    "                Sum\n",
    "            \n",
    "        '''\n",
    "        list_org = self.list_to_summary\n",
    "        count = Summary(self.list_to_summary).sort_list()['# values']\n",
    "        sum_all = 0\n",
    "        for v in list_org:\n",
    "            sum_all += v\n",
    "            # count += 1\n",
    "        dict_result = {\n",
    "            'Sum': sum_all,\n",
    "            'Mean': round(sum_all/count, 2),\n",
    "        }\n",
    "        return dict_result\n",
    "    \n",
    "    \n",
    "    def max_min_list(self):\n",
    "        '''\n",
    "            Calculation of maximum and minimum values of list_to_summary.\n",
    "            \n",
    "            Return a dictonary with:\n",
    "                Maximum\n",
    "                Minimum\n",
    "                Range\n",
    "            \n",
    "        '''\n",
    "        list_org = Summary(self.list_to_summary).sort_list()['Sorted asc']\n",
    "        dict_result = {\n",
    "            'Maximum': list_org[-1],\n",
    "            'Minimum': list_org[0],\n",
    "            'Range': list_org[0] - list_org[-1],\n",
    "        }\n",
    "        return dict_result\n",
    "    \n",
    "\n",
    "    def variance_list(self):\n",
    "        '''\n",
    "            Calculation of variance and standard deviation of values of list_to_summary.\n",
    "            \n",
    "            Return a dictonary with:\n",
    "                Variance\n",
    "                Standard deviation\n",
    "            \n",
    "        '''\n",
    "        list_org = Summary(self.list_to_summary).sort_list()['Sorted asc']\n",
    "        count = Summary(self.list_to_summary).sort_list()['# values']\n",
    "        mean = Summary(self.list_to_summary).mean_sum_list()['Mean']\n",
    "        sum_variance = 0\n",
    "        for c in list_org:\n",
    "            sum_variance += (c - mean)**2\n",
    "        variance = round(sum_variance/(count - 1), 2)\n",
    "        deviation = round(variance ** 0.5, 2)\n",
    "        dict_result = {\n",
    "            'Variance': variance,\n",
    "            'Standard deviation': deviation,\n",
    "        }\n",
    "        return dict_result\n",
    "\n",
    "\n",
    "    def quartile_list(self):\n",
    "        '''\n",
    "            Calculation of quartile of values of list_to_summary.\n",
    "            \n",
    "            Return a dictonary with:\n",
    "                Minor Outlier\n",
    "                Minor\n",
    "                Quartile 1\n",
    "                Quartile 2\n",
    "                Quartile 3\n",
    "                Major\n",
    "                Major Outlier\n",
    "            \n",
    "        '''\n",
    "        list_org = Summary(self.list_to_summary).sort_list()['Sorted asc']\n",
    "        count = Summary(self.list_to_summary).sort_list()['# values']\n",
    "        \n",
    "        q2 = Summary(self.list_to_summary).median_list()['Median']\n",
    "        \n",
    "        if count%2 == 1:\n",
    "            q1 = Summary(list_org[:int(count/2)+1]).median_list()['Median']\n",
    "            q3 = Summary(list_org[int(count/2):]).median_list()['Median']\n",
    "        else:\n",
    "            q1 = Summary(list_org[:int(count/2)]).median_list()['Median']\n",
    "            q3 = Summary(list_org[int(count/2):]).median_list()['Median']\n",
    "        \n",
    "        minor = ((q2 - q1) * 1.5) - q1\n",
    "        major = ((q3 - q2) * 1.5) + q3\n",
    "        \n",
    "        if minor <= list_org[0]:\n",
    "            minor = list_org[0]\n",
    "        \n",
    "        if major >= list_org[-1]:\n",
    "            major = list_org[-1]      \n",
    "        \n",
    "        min_out = list()\n",
    "        max_out = list()\n",
    "        for c in list_org:\n",
    "            if c < minor:\n",
    "                min_out.append(c)\n",
    "            if c > major:\n",
    "                max_out.append(c)\n",
    "        \n",
    "        dict_result = {\n",
    "            'Minor Outlier': min_out,\n",
    "            'Minor': minor,\n",
    "            'Q1': q1,\n",
    "            'Q2': q2,\n",
    "            'Q3': q3,\n",
    "            'Major': major,\n",
    "            'Major Outlier': max_out\n",
    "        }\n",
    "        return dict_result\n",
    "\n",
    "    \n",
    "    def description_list(self):\n",
    "        '''\n",
    "            Calculation all values in the class of Summary from the list_to_summary.\n",
    "            \n",
    "            Return a dictonary with:\n",
    "                Sorted\n",
    "                # values\n",
    "                Sum\n",
    "                Mean\n",
    "                Median\n",
    "                Variance\n",
    "                Standard deviation\n",
    "                Minimum\n",
    "                Minor Outlier\n",
    "                Minor\n",
    "                Q1\n",
    "                Q2\n",
    "                Q3\n",
    "                Major\n",
    "                Major Outlier\n",
    "                Maximum\n",
    "            \n",
    "        '''\n",
    "        list_org_asc = Summary(self.list_to_summary).sort_list()['Sorted asc']\n",
    "        list_org_desc = Summary(self.list_to_summary).sort_list()['Sorted desc']\n",
    "        count = Summary(self.list_to_summary).sort_list()['# values']\n",
    "        list_mediana = Summary(self.list_to_summary).median_list()['Median']\n",
    "        sum_all = Summary(self.list_to_summary).mean_sum_list()['Sum']\n",
    "        mean = Summary(self.list_to_summary).mean_sum_list()['Mean']\n",
    "        mode = Summary(self.list_to_summary).sort_list()['Mode']\n",
    "        min_out = Summary(self.list_to_summary).quartile_list()['Minor Outlier']\n",
    "        minor = Summary(self.list_to_summary).quartile_list()['Minor']\n",
    "        q1 = Summary(self.list_to_summary).quartile_list()['Q1']\n",
    "        q2 = Summary(self.list_to_summary).quartile_list()['Q2']\n",
    "        q3 = Summary(self.list_to_summary).quartile_list()['Q3']\n",
    "        major = Summary(self.list_to_summary).quartile_list()['Major']\n",
    "        max_out = Summary(self.list_to_summary).quartile_list()['Major Outlier']\n",
    "        variance = Summary(self.list_to_summary).variance_list()['Variance']\n",
    "        stdeviation = Summary(self.list_to_summary).variance_list()['Standard deviation']\n",
    "\n",
    "        dict_result = {\n",
    "            'Sorted asc': list_org_asc,\n",
    "            'Sorted desc': list_org_desc,\n",
    "            '# values': count,\n",
    "            'Sum': sum_all,\n",
    "            'Mean': mean,\n",
    "            'Median': list_mediana,\n",
    "            'Mode': mode,\n",
    "            'Variance': variance,\n",
    "            'Standard deviation': stdeviation,\n",
    "            'Minimum': list_org_asc[0],\n",
    "            'Minor Outlier': min_out,\n",
    "            'Minor': minor,\n",
    "            'Q1': q1,\n",
    "            'Q2': q2,\n",
    "            'Q3': q3,\n",
    "            'Major': major,\n",
    "            'Major Outlier': max_out,\n",
    "            'Maximum': list_org_asc[-1],\n",
    "            'Range': list_org_asc[-1] - list_org_asc[0], \n",
    "        }\n",
    "        return dict_result\n",
    "        "
   ]
  },
  {
   "cell_type": "code",
   "execution_count": 3,
   "metadata": {},
   "outputs": [],
   "source": [
    "class NumpySummary():\n",
    "    '''\n",
    "        Class NumpySummary aims to calculate the summary values of lists, in an exploratory data analysis, with numpy library.\n",
    "        \n",
    "        ## Parameter: list.\n",
    "        \n",
    "        The calculated values are:\n",
    "         \n",
    "            - Sorted\n",
    "            - # values\n",
    "            - Sum\n",
    "            - Mean\n",
    "            - Median\n",
    "            - Variance\n",
    "            - Standard deviation\n",
    "            - Minimum\n",
    "            - Minor Outlier\n",
    "            - Minor\n",
    "            - Quartile 1\n",
    "            - Quartile 2\n",
    "            - Quartile 3\n",
    "            - Major\n",
    "            - Major Outlier\n",
    "            - Maximum\n",
    "        \n",
    "    '''\n",
    "    def __init__(self, list_to_summary):\n",
    "        if type(list_to_summary) != list:\n",
    "            return TypeError, 'Error: Only lists can be used as a parameter for Summary class.'\n",
    "        else:\n",
    "            self.list_to_summary = list_to_summary\n",
    "            \n",
    "    \n",
    "    \n",
    "    def np_resumos(self):\n",
    "        list_to_summary = self.list_to_summary[:]\n",
    "        q1 = round(np.quantile(list_to_summary, .25), 1)\n",
    "        q2 = round(np.quantile(list_to_summary, .5), 1)\n",
    "        q3 = round(np.quantile(list_to_summary, .75), 1)\n",
    "        minor = ((q2 - q1) * 1.5) - q1\n",
    "        major = ((q3 - q2) * 1.5) + q3\n",
    "        \n",
    "        if minor <= np.min(list_to_summary):\n",
    "            minor = np.min(list_to_summary)\n",
    "        \n",
    "        if major >= np.max(list_to_summary):\n",
    "            major = np.max(list_to_summary)\n",
    "        \n",
    "        min_out = list()\n",
    "        max_out = list()\n",
    "        for c in np.sort(list_to_summary):\n",
    "            if c < minor:\n",
    "                min_out.append(c)\n",
    "            if c > major:\n",
    "                max_out.append(c)\n",
    "\n",
    "        data = [\n",
    "            np.sort(list_to_summary),\n",
    "            np.sort(list_to_summary)[::-1],\n",
    "            len(list_to_summary),\n",
    "            np.sum(list_to_summary),\n",
    "            round(np.mean(list_to_summary), 2),\n",
    "            round(np.median(list_to_summary), 2),\n",
    "            stats.mode(list_to_summary),\n",
    "            round(np.var(list_to_summary), 2),\n",
    "            round(np.std(list_to_summary), 2),\n",
    "            np.min(list_to_summary),\n",
    "            min_out,\n",
    "            minor,\n",
    "            q1,\n",
    "            np.median(list_to_summary),\n",
    "            q3,\n",
    "            major,\n",
    "            max_out,\n",
    "            np.max(list_to_summary),\n",
    "            np.max(list_to_summary) - np.min(list_to_summary),\n",
    "        ]\n",
    "        return data"
   ]
  },
  {
   "cell_type": "code",
   "execution_count": 4,
   "metadata": {},
   "outputs": [
    {
     "data": {
      "text/plain": "[-20, 1, 3, -90, 2, 4, 6, 6, 5, 7, 9, 8, 4, 200, 190, 456]"
     },
     "execution_count": 4,
     "metadata": {},
     "output_type": "execute_result"
    }
   ],
   "source": [
    "# The list to be analyzed. Just an example, the methods can receive any list of integers.\n",
    "test_list = [-20,1,3,-90,2,4,6,6,5,7,9,8,4,200,190,456]\n",
    "test_list"
   ]
  },
  {
   "cell_type": "code",
   "execution_count": 5,
   "metadata": {},
   "outputs": [
    {
     "data": {
      "text/plain": "<__main__.Summary at 0xbdfa3d0>"
     },
     "execution_count": 5,
     "metadata": {},
     "output_type": "execute_result"
    }
   ],
   "source": [
    "# Inserting the list in the Summary class\n",
    "test_list_summary = Summary(test_list)\n",
    "test_list_summary"
   ]
  },
  {
   "cell_type": "code",
   "execution_count": 6,
   "metadata": {},
   "outputs": [
    {
     "name": "stdout",
     "output_type": "stream",
     "text": "\n        Class Summary aims to calculate the summary values of lists, in an exploratory data analysis.\n        \n        ## Parameter: list.\n        \n        The calculated values are:\n         \n            \n            Sorted asc': list_org_asc,\n            Sorted desc': list_org_desc,\n            # values': count,\n            Sum': sum_all,\n            Mean': mean,\n            Median': list_mediana,\n            Mode': mode,\n            Variance': variance,\n            Standard deviation': stdeviation,\n            Normal Distribution': normal,\n            Minimum': list_org_asc[0],\n            Minor Outlier': min_out,\n            Minor': minor,\n            Q1': q1,\n            Q2': q2,\n            Q3': q3,\n            Major': major,\n            Major Outlier': max_out,\n            Maximum': list_org_asc[-1],\n            Range': li\n        \n    \n"
    }
   ],
   "source": [
    "print(test_list_summary.__doc__)"
   ]
  },
  {
   "cell_type": "code",
   "execution_count": 7,
   "metadata": {},
   "outputs": [
    {
     "name": "stdout",
     "output_type": "stream",
     "text": "# values _ 16\nSorted asc _ [-90, -20, 1, 2, 3, 4, 4, 5, 6, 6, 7, 8, 9, 190, 200, 456]\nSorted desc _ [456, 200, 190, 9, 8, 7, 6, 6, 5, 4, 4, 3, 2, 1, -20, -90]\nMode _ [6, 2]\n"
    }
   ],
   "source": [
    "# Since all the returns of the methods of the class are dictionaries, we will use loop for to observe the results.\n",
    "# Total values in the list, ascending and descending organization\n",
    "d = test_list_summary.sort_list().items()\n",
    "for k, v in d:\n",
    "    print(f'{k} _ {v}')"
   ]
  },
  {
   "cell_type": "code",
   "execution_count": 8,
   "metadata": {},
   "outputs": [
    {
     "name": "stdout",
     "output_type": "stream",
     "text": "Median _ 5.5\n"
    }
   ],
   "source": [
    "# Total value and median\n",
    "d = test_list_summary.median_list().items()\n",
    "for k, v in d:\n",
    "    print(f'{k} _ {v}')"
   ]
  },
  {
   "cell_type": "code",
   "execution_count": 9,
   "metadata": {},
   "outputs": [
    {
     "name": "stdout",
     "output_type": "stream",
     "text": "Sum _ 791\nMean _ 49.44\n"
    }
   ],
   "source": [
    "# Average and sum of values\n",
    "d = test_list_summary.mean_sum_list().items()\n",
    "for k, v in d:\n",
    "    print(f'{k} _ {v}')"
   ]
  },
  {
   "cell_type": "code",
   "execution_count": 10,
   "metadata": {},
   "outputs": [
    {
     "name": "stdout",
     "output_type": "stream",
     "text": "Maximum _ 456\nMinimum _ -90\nRange _ -546\n"
    }
   ],
   "source": [
    "# Maximum and minimum list value\n",
    "d = test_list_summary.max_min_list().items()\n",
    "for k, v in d:\n",
    "    print(f'{k} _ {v}')"
   ]
  },
  {
   "cell_type": "code",
   "execution_count": 11,
   "metadata": {},
   "outputs": [
    {
     "name": "stdout",
     "output_type": "stream",
     "text": "Minor Outlier _ [-90, -20, 1]\nMinor _ 2.0\nQ1 _ 2.5\nQ2 _ 5.5\nQ3 _ 8.5\nMajor _ 13.0\nMajor Outlier _ [190, 200, 456]\n"
    }
   ],
   "source": [
    "# Distribution values\n",
    "d = test_list_summary.quartile_list().items()\n",
    "for k, v in d:\n",
    "    print(f'{k} _ {v}')"
   ]
  },
  {
   "cell_type": "code",
   "execution_count": 12,
   "metadata": {},
   "outputs": [
    {
     "name": "stdout",
     "output_type": "stream",
     "text": "Variance _ 16917.86\nStandard deviation _ 130.07\n"
    }
   ],
   "source": [
    "# Variance and standard deviation of values\n",
    "d = test_list_summary.variance_list().items()\n",
    "for k, v in d:\n",
    "    print(f'{k} _ {v}')"
   ]
  },
  {
   "cell_type": "code",
   "execution_count": 13,
   "metadata": {},
   "outputs": [
    {
     "name": "stdout",
     "output_type": "stream",
     "text": "Sorted asc _ [-90, -20, 1, 2, 3, 4, 4, 5, 6, 6, 7, 8, 9, 190, 200, 456]\nSorted desc _ [456, 200, 190, 9, 8, 7, 6, 6, 5, 4, 4, 3, 2, 1, -20, -90]\n# values _ 16\nSum _ 791\nMean _ 49.44\nMedian _ 5.5\nMode _ [6, 2]\nVariance _ 16917.86\nStandard deviation _ 130.07\nMinimum _ -90\nMinor Outlier _ [-90, -20, 1]\nMinor _ 2.0\nQ1 _ 2.5\nQ2 _ 5.5\nQ3 _ 8.5\nMajor _ 13.0\nMajor Outlier _ [190, 200, 456]\nMaximum _ 456\nRange _ 546\n"
    }
   ],
   "source": [
    "# All class values which describe the exploratory analysis of data in the list\n",
    "d = test_list_summary.description_list().items()\n",
    "for k, v in d:\n",
    "    print(f'{k} _ {v}')"
   ]
  },
  {
   "cell_type": "code",
   "execution_count": 14,
   "metadata": {},
   "outputs": [
    {
     "data": {
      "text/html": "<div>\n<style scoped>\n    .dataframe tbody tr th:only-of-type {\n        vertical-align: middle;\n    }\n\n    .dataframe tbody tr th {\n        vertical-align: top;\n    }\n\n    .dataframe thead th {\n        text-align: right;\n    }\n</style>\n<table border=\"1\" class=\"dataframe\">\n  <thead>\n    <tr style=\"text-align: right;\">\n      <th></th>\n      <th>Sorted asc</th>\n      <th>Sorted desc</th>\n      <th># values</th>\n      <th>Sum</th>\n      <th>Mean</th>\n      <th>Median</th>\n      <th>Mode</th>\n      <th>Variance</th>\n      <th>Standard deviation</th>\n      <th>Minimum</th>\n      <th>Minor Outlier</th>\n      <th>Minor</th>\n      <th>Q1</th>\n      <th>Q2</th>\n      <th>Q3</th>\n      <th>Major</th>\n      <th>Major Outlier</th>\n      <th>Maximum</th>\n      <th>Range</th>\n    </tr>\n  </thead>\n  <tbody>\n    <tr>\n      <td>Summary Class</td>\n      <td>[-90, -20, 1, 2, 3, 4, 4, 5, 6, 6, 7, 8, 9, 19...</td>\n      <td>[456, 200, 190, 9, 8, 7, 6, 6, 5, 4, 4, 3, 2, ...</td>\n      <td>16</td>\n      <td>791</td>\n      <td>49.44</td>\n      <td>5.5</td>\n      <td>[6, 2]</td>\n      <td>16917.86</td>\n      <td>130.07</td>\n      <td>-90</td>\n      <td>[-90, -20, 1]</td>\n      <td>2.00</td>\n      <td>2.5</td>\n      <td>5.5</td>\n      <td>8.5</td>\n      <td>13.00</td>\n      <td>[190, 200, 456]</td>\n      <td>456</td>\n      <td>546</td>\n    </tr>\n    <tr>\n      <td>Numpy Class</td>\n      <td>[-90, -20, 1, 2, 3, 4, 4, 5, 6, 6, 7, 8, 9, 19...</td>\n      <td>[456, 200, 190, 9, 8, 7, 6, 6, 5, 4, 4, 3, 2, ...</td>\n      <td>16</td>\n      <td>791</td>\n      <td>49.44</td>\n      <td>5.5</td>\n      <td>([4], [2])</td>\n      <td>15860.50</td>\n      <td>125.94</td>\n      <td>-90</td>\n      <td>[-90, -20, 1]</td>\n      <td>1.25</td>\n      <td>2.8</td>\n      <td>5.5</td>\n      <td>8.2</td>\n      <td>12.25</td>\n      <td>[190, 200, 456]</td>\n      <td>456</td>\n      <td>546</td>\n    </tr>\n  </tbody>\n</table>\n</div>",
      "text/plain": "                                                      Sorted asc  \\\nSummary Class  [-90, -20, 1, 2, 3, 4, 4, 5, 6, 6, 7, 8, 9, 19...   \nNumpy Class    [-90, -20, 1, 2, 3, 4, 4, 5, 6, 6, 7, 8, 9, 19...   \n\n                                                     Sorted desc  # values  \\\nSummary Class  [456, 200, 190, 9, 8, 7, 6, 6, 5, 4, 4, 3, 2, ...        16   \nNumpy Class    [456, 200, 190, 9, 8, 7, 6, 6, 5, 4, 4, 3, 2, ...        16   \n\n               Sum   Mean  Median        Mode  Variance  Standard deviation  \\\nSummary Class  791  49.44     5.5      [6, 2]  16917.86              130.07   \nNumpy Class    791  49.44     5.5  ([4], [2])  15860.50              125.94   \n\n               Minimum  Minor Outlier  Minor   Q1   Q2   Q3  Major  \\\nSummary Class      -90  [-90, -20, 1]   2.00  2.5  5.5  8.5  13.00   \nNumpy Class        -90  [-90, -20, 1]   1.25  2.8  5.5  8.2  12.25   \n\n                 Major Outlier  Maximum  Range  \nSummary Class  [190, 200, 456]      456    546  \nNumpy Class    [190, 200, 456]      456    546  "
     },
     "execution_count": 14,
     "metadata": {},
     "output_type": "execute_result"
    }
   ],
   "source": [
    "# Obtaining a dictionary for structuring data in Panda.DataFrame, in order to compare values.\n",
    "columns = list(test_list_summary.description_list().keys())\n",
    "data1 = list(test_list_summary.description_list().values())\n",
    "\n",
    "# Obtaining the descriptive data in numpy, for comparative analysis with the developed class.\n",
    "data2 = NumpySummary(test_list).np_resumos()\n",
    "\n",
    "# Construction of the DataFrame to compare the data between the constituted class and numpy.\n",
    "df = pd.DataFrame(data=[data1, data2], columns=columns, index=['Summary Class','Numpy Class'])\n",
    "df"
   ]
  },
  {
   "cell_type": "code",
   "execution_count": 15,
   "metadata": {},
   "outputs": [
    {
     "name": "stdout",
     "output_type": "stream",
     "text": "5.77 ms ± 237 µs per loop (mean ± std. dev. of 7 runs, 100 loops each)\n"
    }
   ],
   "source": [
    "# Summary Class runtime analysis\n",
    "%timeit Summary(test_list).description_list()"
   ]
  },
  {
   "cell_type": "code",
   "execution_count": 16,
   "metadata": {},
   "outputs": [
    {
     "name": "stdout",
     "output_type": "stream",
     "text": "926 µs ± 128 µs per loop (mean ± std. dev. of 7 runs, 1000 loops each)\n"
    }
   ],
   "source": [
    "# Numpy runtime analyses\n",
    "%timeit NumpySummary(test_list).np_resumos()"
   ]
  }
 ],
 "metadata": {
  "kernelspec": {
   "display_name": "Python 3",
   "language": "python",
   "name": "python3"
  },
  "language_info": {
   "codemirror_mode": {
    "name": "ipython",
    "version": 3
   },
   "file_extension": ".py",
   "mimetype": "text/x-python",
   "name": "python",
   "nbconvert_exporter": "python",
   "pygments_lexer": "ipython3",
   "version": "3.7.4-final"
  },
  "toc": {
   "base_numbering": 1,
   "nav_menu": {},
   "number_sections": true,
   "sideBar": true,
   "skip_h1_title": false,
   "title_cell": "Table of Contents",
   "title_sidebar": "Contents",
   "toc_cell": false,
   "toc_position": {},
   "toc_section_display": true,
   "toc_window_display": false
  },
  "varInspector": {
   "cols": {
    "lenName": 16,
    "lenType": 16,
    "lenVar": 40
   },
   "kernels_config": {
    "python": {
     "delete_cmd_postfix": "",
     "delete_cmd_prefix": "del ",
     "library": "var_list.py",
     "varRefreshCmd": "print(var_dic_list())"
    },
    "r": {
     "delete_cmd_postfix": ") ",
     "delete_cmd_prefix": "rm(",
     "library": "var_list.r",
     "varRefreshCmd": "cat(var_dic_list()) "
    }
   },
   "types_to_exclude": [
    "module",
    "function",
    "builtin_function_or_method",
    "instance",
    "_Feature"
   ],
   "window_display": false
  }
 },
 "nbformat": 4,
 "nbformat_minor": 4
}